{
 "cells": [
  {
   "cell_type": "markdown",
   "metadata": {},
   "source": [
    "# Positional Encoding\n",
    "### by Pio Lauren T. Mendoza 2015-04074\n",
    "This note book performs"
   ]
  }
 ],
 "metadata": {
  "kernelspec": {
   "display_name": "Python (COE197Z)",
   "language": "python",
   "name": "coe197z"
  },
  "language_info": {
   "codemirror_mode": {
    "name": "ipython",
    "version": 3
   },
   "file_extension": ".py",
   "mimetype": "text/x-python",
   "name": "python",
   "nbconvert_exporter": "python",
   "pygments_lexer": "ipython3",
   "version": "3.7.9"
  }
 },
 "nbformat": 4,
 "nbformat_minor": 4
}
