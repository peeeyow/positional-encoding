{
 "cells": [
  {
   "cell_type": "markdown",
   "metadata": {},
   "source": [
    "# Positional Encoding\n",
    "### by Pio Lauren T. Mendoza 2015-04074\n",
    "This note book creates position\n",
    "matrix of dimension 16 by 16."
   ]
  },
  {
   "cell_type": "markdown",
   "metadata": {},
   "source": [
    "#### Importing modules needed."
   ]
  },
  {
   "cell_type": "code",
   "execution_count": 63,
   "metadata": {},
   "outputs": [],
   "source": [
    "import inspect\n",
    "import numpy as np\n",
    "import numpy.linalg as la\n",
    "import matplotlib.pyplot as plt"
   ]
  },
  {
   "cell_type": "markdown",
   "metadata": {},
   "source": [
    "#### Position Matrix\n",
    "The position matrix $\\boldsymbol{P} \\in \\mathbb{R}^{lxd}$ is as follows:\n",
    "$$P_{i,2j} = sin(i/10000^{2j/d_k}),$$\n",
    "$$P_{i,2j+1} = cos(i/10000^{2j/d_k}),$$\n",
    "\n",
    "where $i = 0,...,l-1$ and $j=0,...,\\left\\lfloor(d_{k})/2\\right\\rfloor$\n",
    "The column vectors from this matrix are added to the "
   ]
  },
  {
   "cell_type": "markdown",
   "metadata": {},
   "source": [
    "#### Defining function sines\n",
    "This function computes for the value of an element of matrix $\\boldsymbol{P}$ where sin must be used."
   ]
  },
  {
   "cell_type": "code",
   "execution_count": 3,
   "metadata": {},
   "outputs": [],
   "source": [
    "def sines(i, j, dk):\n",
    "    return np.sin(i/np.power(10000, 2*j/dk))"
   ]
  },
  {
   "cell_type": "markdown",
   "metadata": {},
   "source": [
    "#### Defining function cosines\n",
    "This function computes for the value of an element of matrix $\\boldsymbol{P}$ where cos must be used."
   ]
  },
  {
   "cell_type": "code",
   "execution_count": 4,
   "metadata": {},
   "outputs": [],
   "source": [
    "def cosines(i, j, dk):\n",
    "    return np.cos(i/np.power(10000, 2*j/dk))"
   ]
  },
  {
   "cell_type": "markdown",
   "metadata": {},
   "source": [
    "#### Defining the position matrix generator\n",
    "This functions creates the position matrix."
   ]
  },
  {
   "cell_type": "code",
   "execution_count": 5,
   "metadata": {},
   "outputs": [],
   "source": [
    "def createPositionMatrix(l, dk):\n",
    "    inspect.cleandoc(\"\"\"\n",
    "    l is the length of the input sequence/ how many words.\n",
    "    dk is the dimension of the embedding\n",
    "    p is the position matrix where each column is a basis.\n",
    "    \"\"\")\n",
    "    p = np.zeros((l,dk))\n",
    "    i = np.arange(l) # populating the positions of input sequence.\n",
    "    j = np.arange(dk//2) # populating the position of the embedding vector dimension.\n",
    "    ii, jj = np.meshgrid(i,j, indexing=\"ij\") # this acts like a nested for loop\n",
    "    p[:,0::2] = sines(ii,jj,dk) # operations are vectorized for faster computation\n",
    "    p[:,1::2] = cosines(ii,jj,dk)\n",
    "    return p"
   ]
  },
  {
   "cell_type": "markdown",
   "metadata": {},
   "source": [
    "#### Creating the position matrix \n",
    "The length of the sequence will be 16 and the dim of the embedding vector is also 16."
   ]
  },
  {
   "cell_type": "code",
   "execution_count": 6,
   "metadata": {},
   "outputs": [],
   "source": [
    "l = 16\n",
    "dk = 16\n",
    "P = createPositionMatrix(l,dk)"
   ]
  },
  {
   "cell_type": "markdown",
   "metadata": {},
   "source": [
    "#### Checking whether the result of the createPositionMatrix is already a set of orthornormal bases.\n",
    "Checking if normalized - Can be done by checking the dot product of the bases to themselves. Dot product must be 1. <br/>\n",
    "Checking if orthogonal - Can be done by checking the dot product of the bases with each other except for i = j. Dot product must be 0."
   ]
  },
  {
   "cell_type": "markdown",
   "metadata": {},
   "source": [
    "##### Checking Orthogonality"
   ]
  },
  {
   "cell_type": "code",
   "execution_count": 25,
   "metadata": {},
   "outputs": [
    {
     "name": "stdout",
     "output_type": "stream",
     "text": [
      "[ 1.93567511 -0.11124568 -0.67522826  1.51110504 -4.57838104  4.99366691\n",
      "  1.77966783  3.50068495  1.12674279  1.1904306   0.37712422  0.37916984\n",
      "  0.11992561  0.1199904   0.03794498  0.03794703]\n"
     ]
    }
   ],
   "source": [
    "PShifted = P.copy()\n",
    "# bases are moved to right by 1 and last basis was put in the first column\n",
    "PShifted = np.concatenate((np.array([PShifted[:,-1]]).T, PShifted), axis=1)[:,:-1] \n",
    "# Checking whether some of the bases are othogonal to each other\n",
    "print(np.sum(P*PShifted, axis=0))"
   ]
  },
  {
   "cell_type": "markdown",
   "metadata": {},
   "source": [
    "As seen the dot products of some of the bases with one another is not zero therefore they are not orthogonal with one another.\n",
    "This also means they are not orthonormal with one another."
   ]
  },
  {
   "cell_type": "markdown",
   "metadata": {},
   "source": [
    "#### Implementing the Gram-Schmidt Orthogonalization"
   ]
  },
  {
   "cell_type": "code",
   "execution_count": 147,
   "metadata": {},
   "outputs": [],
   "source": [
    "def gramSchmidt(P):\n",
    "    inspect.cleandoc(\"\"\"\n",
    "    P - input matrix where columns are the bases.\n",
    "    orthonormalP - output matrix where columns are orthornomal bases.\n",
    "    \"\"\")\n",
    "    orthonormalP = (P[:, 0]/la.norm(P[:,0]))[:, np.newaxis]\n",
    "    # iterating over column\n",
    "    for i in range(1,P.shape[1]):\n",
    "        # column vector / basis\n",
    "        x = (P[:, i])[:, np.newaxis]\n",
    "        # projections\n",
    "        xDotOrthonormalP = (np.sum(x * orthonormalP, axis = 0))[np.newaxis, :]\n",
    "        w = np.sum(xDotOrthonormalP * orthonormalP, axis=1)[:, np.newaxis]\n",
    "        u = x - w\n",
    "        u /= la.norm(u)\n",
    "        orthonormalP = np.hstack((orthonormalP, u))\n",
    "    return np.array(orthonormalP)\n",
    "def gs(P):\n",
    "    inspect.cleandoc(\"\"\"\n",
    "    P - input matrix where columns are the bases.\n",
    "    Q - output matrix where columns are orthornomal bases.\n",
    "    \"\"\")\n",
    "    # built in function for qr decomposition\n",
    "    q,_ = la.qr(P)\n",
    "    return q"
   ]
  },
  {
   "cell_type": "markdown",
   "metadata": {},
   "source": [
    "Getting turning P into as a set of orthonormal bases."
   ]
  },
  {
   "cell_type": "code",
   "execution_count": 148,
   "metadata": {},
   "outputs": [],
   "source": [
    "orthonormalP = gramSchmidt(P)"
   ]
  },
  {
   "cell_type": "markdown",
   "metadata": {},
   "source": [
    "Checking if the vectors are orthogonal with each other."
   ]
  },
  {
   "cell_type": "code",
   "execution_count": 136,
   "metadata": {},
   "outputs": [
    {
     "data": {
      "text/plain": [
       "(16, 16)"
      ]
     },
     "execution_count": 136,
     "metadata": {},
     "output_type": "execute_result"
    }
   ],
   "source": [
    "np.array(orthonormalP).shape"
   ]
  },
  {
   "cell_type": "code",
   "execution_count": 149,
   "metadata": {},
   "outputs": [
    {
     "name": "stdout",
     "output_type": "stream",
     "text": [
      "[0.         0.         0.         0.         0.         0.\n",
      " 0.         0.         0.         0.         0.99966762 0.\n",
      " 0.         0.         0.         0.        ]\n",
      "[0.         0.         0.         0.         0.         0.\n",
      " 0.         0.         0.         0.         0.         0.\n",
      " 0.99999985 0.99999998 1.         1.        ]\n",
      "[0.         0.         0.         0.         0.         0.\n",
      " 0.         0.         0.         0.         0.         0.0260436\n",
      " 0.99965477 0.         0.         0.        ]\n",
      "[0.         0.         0.         0.         0.         0.\n",
      " 0.         0.         0.         0.         0.         0.\n",
      " 0.         0.         0.99999979 0.99999997]\n",
      "[0.         0.         0.         0.         0.         0.\n",
      " 0.         0.         0.         0.         0.         0.\n",
      " 0.         0.02586517 0.99965272 0.        ]\n",
      "[0. 0. 0. 0. 0. 0. 0. 0. 0. 0. 0. 0. 0. 0. 0. 0.]\n",
      "[0.         0.         0.         0.         0.         0.\n",
      " 0.         0.         0.         0.         0.         0.\n",
      " 0.         0.         0.         0.02581204]\n",
      "[0. 0. 0. 0. 0. 0. 0. 0. 0. 0. 0. 0. 0. 0. 0. 0.]\n",
      "[0.         0.         0.         0.         0.         0.\n",
      " 0.         0.         0.02581204 0.         0.         0.\n",
      " 0.         0.         0.         0.        ]\n",
      "[0. 0. 0. 0. 0. 0. 0. 0. 0. 0. 0. 0. 0. 0. 0. 0.]\n",
      "[0.         0.         0.         0.         0.         0.\n",
      " 0.         0.         0.02586517 0.99965272 0.         0.\n",
      " 0.         0.         0.         0.        ]\n",
      "[0.         0.         0.         0.         0.         0.\n",
      " 0.         0.         0.         0.         0.99999979 0.99999997\n",
      " 0.         0.         0.         0.        ]\n",
      "[0.         0.         0.         0.         0.         0.\n",
      " 0.         0.         0.0260436  0.99965477 0.         0.\n",
      " 0.         0.         0.         0.        ]\n",
      "[0.         0.         0.         0.         0.         0.\n",
      " 0.         0.         0.         0.         0.99999985 0.99999998\n",
      " 1.         1.         0.         0.        ]\n",
      "[0.         0.         0.         0.         0.         0.\n",
      " 0.         0.         0.         0.99966762 0.         0.\n",
      " 0.         0.         0.         0.        ]\n",
      "[1. 1. 1. 1. 1. 1. 1. 1. 1. 1. 1. 1. 1. 1. 1. 1.]\n"
     ]
    }
   ],
   "source": [
    "PShifted = orthonormalP.copy();\n",
    "# bases are moved to right by 1 and last basis was put in the first column\n",
    "for it in range(orthonormalP.shape[1]):\n",
    "    PShifted = np.hstack((np.array([PShifted[:,-1]]).T, PShifted))[:,:-1]\n",
    "    d = np.sum(orthonormalP*PShifted, axis=0)\n",
    "    d[d<1e-6] = 0\n",
    "    print(d)"
   ]
  },
  {
   "cell_type": "code",
   "execution_count": 150,
   "metadata": {},
   "outputs": [
    {
     "data": {
      "image/png": "[encoded data removed]",
      "text/plain": [
       "<Figure size 864x576 with 2 Axes>"
      ]
     },
     "metadata": {
      "needs_background": "light"
     },
     "output_type": "display_data"
    }
   ],
   "source": [
    "plt.figure(figsize=(12,8))\n",
    "plt.pcolormesh(orthonormalP, cmap='viridis')\n",
    "plt.xlabel('Embedding Dimensions')\n",
    "plt.xlim((0, dk))\n",
    "plt.ylim((l,0))\n",
    "plt.ylabel('Token Position')\n",
    "plt.colorbar()\n",
    "plt.show()"
   ]
  }
 ],
 "metadata": {
  "kernelspec": {
   "display_name": "Python (COE197Z)",
   "language": "python",
   "name": "coe197z"
  },
  "language_info": {
   "codemirror_mode": {
    "name": "ipython",
    "version": 3
   },
   "file_extension": ".py",
   "mimetype": "text/x-python",
   "name": "python",
   "nbconvert_exporter": "python",
   "pygments_lexer": "ipython3",
   "version": "3.7.9"
  }
 },
 "nbformat": 4,
 "nbformat_minor": 4
}
