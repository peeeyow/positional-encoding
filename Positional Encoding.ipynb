{
 "cells": [
  {
   "cell_type": "markdown",
   "metadata": {},
   "source": [
    "# Positional Encoding\n",
    "### by Pio Lauren T. Mendoza 2015-04074\n",
    "This note book creates position\n",
    "matrix of dimension 16 by 16."
   ]
  },
  {
   "cell_type": "markdown",
   "metadata": {},
   "source": [
    "#### Importing modules needed."
   ]
  },
  {
   "cell_type": "code",
   "execution_count": 1,
   "metadata": {},
   "outputs": [],
   "source": [
    "import inspect\n",
    "import numpy as np\n",
    "import numpy.linalg as la\n",
    "import matplotlib.pyplot as plt"
   ]
  },
  {
   "cell_type": "markdown",
   "metadata": {},
   "source": [
    "#### Position Matrix\n",
    "The position matrix $\\boldsymbol{P} \\in \\mathbb{R}^{lxd}$ is as follows:\n",
    "$$P_{i,2j} = sin(i/10000^{2j/d_k}),$$\n",
    "$$P_{i,2j+1} = cos(i/10000^{2j/d_k}),$$\n",
    "\n",
    "where $i =0,..., 2\\pi$, (distributed into l bins), and $j=0,...,\\left\\lfloor(d_{k})/2\\right\\rfloor$.\n",
    "The column vectors from this matrix are added to the set of vectors defining the basis."
   ]
  },
  {
   "cell_type": "markdown",
   "metadata": {},
   "source": [
    "#### Defining function sines\n",
    "This function computes for the value of an element of matrix $\\boldsymbol{P}$ where sin must be used."
   ]
  },
  {
   "cell_type": "code",
   "execution_count": 2,
   "metadata": {},
   "outputs": [],
   "source": [
    "def sines(i, j, dk):\n",
    "    return np.sin(i/np.power(10000, 2*j/dk))"
   ]
  },
  {
   "cell_type": "markdown",
   "metadata": {},
   "source": [
    "#### Defining function cosines\n",
    "This function computes for the value of an element of matrix $\\boldsymbol{P}$ where cos must be used."
   ]
  },
  {
   "cell_type": "code",
   "execution_count": 3,
   "metadata": {},
   "outputs": [],
   "source": [
    "def cosines(i, j, dk):\n",
    "    return np.cos(i/np.power(10000, 2*j/dk))"
   ]
  },
  {
   "cell_type": "markdown",
   "metadata": {},
   "source": [
    "#### Defining the position matrix generator\n",
    "This functions creates the position matrix."
   ]
  },
  {
   "cell_type": "code",
   "execution_count": 4,
   "metadata": {},
   "outputs": [],
   "source": [
    "def createPositionMatrix(l, dk):\n",
    "    inspect.cleandoc(\"\"\"\n",
    "    l is the length of the input sequence/ how many words.\n",
    "    dk is the dimension of the embedding\n",
    "    p is the position matrix where each column is a basis.\n",
    "    \"\"\")\n",
    "    p = np.zeros((l,dk))\n",
    "#     i = np.linspace(0, 2*np.pi, l) # populating the positions of input sequence. \n",
    "    i = np.arange(l)\n",
    "    j = np.arange(dk//2) # populating the position of the embedding vector dimension.\n",
    "    ii, jj = np.meshgrid(i,j, indexing=\"ij\") # this acts like a nested for loop\n",
    "    p[:,0::2] = sines(ii,jj,dk) # operations are vectorized for faster computation\n",
    "    p[:,1::2] = cosines(ii,jj,dk)\n",
    "    return p"
   ]
  },
  {
   "cell_type": "markdown",
   "metadata": {},
   "source": [
    "#### Creating the position matrix \n",
    "The length of the sequence will be 16 and the dim of the embedding vector is also 16."
   ]
  },
  {
   "cell_type": "code",
   "execution_count": 5,
   "metadata": {},
   "outputs": [],
   "source": [
    "l = 16\n",
    "dk = 16\n",
    "P = createPositionMatrix(l,dk)"
   ]
  },
  {
   "cell_type": "markdown",
   "metadata": {},
   "source": [
    "#### Checking whether the result of the createPositionMatrix is already a set of orthornormal basis.\n",
    "Checking if normalized - Can be done by checking the dot product of the basis to themselves. Dot product must be 1. <br/>\n",
    "Checking if orthogonal - Can be done by checking the dot product of the basis with each other except for i = j. Dot product must be 0."
   ]
  },
  {
   "cell_type": "markdown",
   "metadata": {},
   "source": [
    "##### Checking Orthogonality"
   ]
  },
  {
   "cell_type": "code",
   "execution_count": 6,
   "metadata": {},
   "outputs": [
    {
     "name": "stdout",
     "output_type": "stream",
     "text": [
      "[ 1.93567511 -0.11124568 -0.67522826  1.51110504 -4.57838104  4.99366691\n",
      "  1.77966783  3.50068495  1.12674279  1.1904306   0.37712422  0.37916984\n",
      "  0.11992561  0.1199904   0.03794498  0.03794703]\n"
     ]
    }
   ],
   "source": [
    "PShifted = P.copy()\n",
    "# basis are moved to right by 1 and last basis was put in the first column\n",
    "PShifted = np.concatenate((np.array([PShifted[:,-1]]).T, PShifted), axis=1)[:,:-1] \n",
    "# Checking whether some of the basis are othogonal to each other\n",
    "print(np.sum(P*PShifted, axis=0))"
   ]
  },
  {
   "cell_type": "markdown",
   "metadata": {},
   "source": [
    "As seen the dot products of some of the basis with one another is not zero therefore they are not orthogonal with one another.\n",
    "This also means they are not orthonormal with one another."
   ]
  },
  {
   "cell_type": "markdown",
   "metadata": {},
   "source": [
    "#### Implementing the Gram-Schmidt Orthogonalization"
   ]
  },
  {
   "cell_type": "code",
   "execution_count": 7,
   "metadata": {},
   "outputs": [],
   "source": [
    "def gramSchmidt(P):\n",
    "    inspect.cleandoc(\"\"\"\n",
    "    P - input matrix where columns are the basis.\n",
    "    orthonormalP - output matrix where columns are orthornomal basis.\n",
    "    \"\"\")\n",
    "    orthonormalP = (P[:, 0]/la.norm(P[:,0]))[:, np.newaxis]\n",
    "    # iterating over column\n",
    "    for i in range(1,P.shape[1]):\n",
    "        # column vector / basis\n",
    "        x = P[:, i]\n",
    "        # projections\n",
    "        w = np.diagflat(x.dot(orthonormalP)).dot(orthonormalP.T)\n",
    "        u = x - w.sum(0)\n",
    "        u /= la.norm(u)\n",
    "        orthonormalP = np.hstack((orthonormalP, u[:, np.newaxis]))\n",
    "    return orthonormalP\n",
    "def gs(P):\n",
    "    inspect.cleandoc(\"\"\"\n",
    "    P - input matrix where columns are the basis.\n",
    "    Q - output matrix where columns are orthornomal basis.\n",
    "    \"\"\")\n",
    "    # built in function for qr decomposition\n",
    "    q,_ = la.qr(P)\n",
    "    return q"
   ]
  },
  {
   "cell_type": "markdown",
   "metadata": {},
   "source": [
    "Orthonomalizing P."
   ]
  },
  {
   "cell_type": "code",
   "execution_count": 8,
   "metadata": {},
   "outputs": [],
   "source": [
    "orthonormalP = gramSchmidt(P.copy())"
   ]
  },
  {
   "cell_type": "markdown",
   "metadata": {},
   "source": [
    "Checking if the vectors are orthogonal with each other and if they are unit vectors."
   ]
  },
  {
   "cell_type": "code",
   "execution_count": 9,
   "metadata": {},
   "outputs": [
    {
     "name": "stdout",
     "output_type": "stream",
     "text": [
      "[0. 0. 0. 0. 0. 0. 0. 0. 0. 0. 0. 0. 0. 0. 0. 0.]\n",
      "[0. 0. 0. 0. 0. 0. 0. 0. 0. 0. 0. 0. 0. 0. 0. 0.]\n",
      "[0. 0. 0. 0. 0. 0. 0. 0. 0. 0. 0. 0. 0. 0. 0. 0.]\n",
      "[0. 0. 0. 0. 0. 0. 0. 0. 0. 0. 0. 0. 0. 0. 0. 0.]\n",
      "[0. 0. 0. 0. 0. 0. 0. 0. 0. 0. 0. 0. 0. 0. 0. 0.]\n",
      "[0. 0. 0. 0. 0. 0. 0. 0. 0. 0. 0. 0. 0. 0. 0. 0.]\n",
      "[0. 0. 0. 0. 0. 0. 0. 0. 0. 0. 0. 0. 0. 0. 0. 0.]\n",
      "[0. 0. 0. 0. 0. 0. 0. 0. 0. 0. 0. 0. 0. 0. 0. 0.]\n",
      "[0. 0. 0. 0. 0. 0. 0. 0. 0. 0. 0. 0. 0. 0. 0. 0.]\n",
      "[0. 0. 0. 0. 0. 0. 0. 0. 0. 0. 0. 0. 0. 0. 0. 0.]\n",
      "[0. 0. 0. 0. 0. 0. 0. 0. 0. 0. 0. 0. 0. 0. 0. 0.]\n",
      "[0. 0. 0. 0. 0. 0. 0. 0. 0. 0. 0. 0. 0. 0. 0. 0.]\n",
      "[0. 0. 0. 0. 0. 0. 0. 0. 0. 0. 0. 0. 0. 0. 0. 0.]\n",
      "[0. 0. 0. 0. 0. 0. 0. 0. 0. 0. 0. 0. 0. 0. 0. 0.]\n",
      "[0. 0. 0. 0. 0. 0. 0. 0. 0. 0. 0. 0. 0. 0. 0. 0.]\n",
      "[1. 1. 1. 1. 1. 1. 1. 1. 1. 1. 1. 1. 1. 1. 1. 1.]\n"
     ]
    }
   ],
   "source": [
    "orthonormalP = gs(P);\n",
    "PShifted = orthonormalP.copy()\n",
    "# basis are moved to right by 1 and last basis was put in the first column\n",
    "for it in range(orthonormalP.shape[1]):\n",
    "    PShifted = np.hstack((np.array([PShifted[:,-1]]).T, PShifted))[:,:-1]\n",
    "    d = np.sum(orthonormalP*PShifted, axis=0)\n",
    "    d[d<1e-6] = 0\n",
    "    print(d)"
   ]
  },
  {
   "cell_type": "markdown",
   "metadata": {},
   "source": [
    "The last row is the dot product with itself. <br/>\n",
    "As seen the dot products of the basis to each other 0 hence orthogonal.<br/>\n",
    "while the dot product with itself is 1 hence normalized."
   ]
  },
  {
   "cell_type": "markdown",
   "metadata": {},
   "source": [
    "#### Plotting the basis (non - orthonormal)"
   ]
  },
  {
   "cell_type": "code",
   "execution_count": 10,
   "metadata": {},
   "outputs": [
    {
     "data": {
      "image/png": "[encoded data removed]",
      "text/plain": [
       "<Figure size 864x576 with 2 Axes>"
      ]
     },
     "metadata": {
      "needs_background": "light"
     },
     "output_type": "display_data"
    }
   ],
   "source": [
    "plt.figure(figsize=(12,8))\n",
    "plt.pcolormesh(P, cmap='viridis', vmin=-1, vmax=1)\n",
    "yTicks = ['0', f'2$\\pi$/15', f'4$\\pi$/15', f'2$\\pi$/5',  f'8$\\pi$/15',  f'2$\\pi$/3',  f'4$\\pi$/5',  f'14$\\pi$/15',  f'16$\\pi$/15',\n",
    "           f'6$\\pi$/5',  f'4$\\pi$/3',  f'22$\\pi$/15',  f'8$\\pi$/5',  f'26$\\pi$/15',  f'28$\\pi$/15',  f'2$\\pi$',]\n",
    "plt.yticks(range(1, P.shape[0]+1), yTicks)\n",
    "plt.xlabel('Embedding Dimensions')\n",
    "plt.ylabel('Token Position')\n",
    "plt.colorbar()\n",
    "plt.show()"
   ]
  },
  {
   "cell_type": "markdown",
   "metadata": {},
   "source": [
    "#### Ploting Orthonormal Basis"
   ]
  },
  {
   "cell_type": "code",
   "execution_count": 11,
   "metadata": {},
   "outputs": [
    {
     "data": {
      "image/png": "[encoded data removed]",
      "text/plain": [
       "<Figure size 864x576 with 2 Axes>"
      ]
     },
     "metadata": {
      "needs_background": "light"
     },
     "output_type": "display_data"
    }
   ],
   "source": [
    "plt.figure(figsize=(12,8))\n",
    "plt.pcolormesh(gs(P), cmap='viridis')\n",
    "yTicks = ['0', f'2$\\pi$/15', f'4$\\pi$/15', f'2$\\pi$/5',  f'8$\\pi$/15',  f'2$\\pi$/3',  f'4$\\pi$/5',  f'14$\\pi$/15',  f'16$\\pi$/15',\n",
    "           f'6$\\pi$/5',  f'4$\\pi$/3',  f'22$\\pi$/15',  f'8$\\pi$/5',  f'26$\\pi$/15',  f'28$\\pi$/15',  f'2$\\pi$',]\n",
    "plt.yticks(range(1, P.shape[0]+1), yTicks)\n",
    "plt.xlabel('Embedding Dimensions')\n",
    "plt.ylabel('Token Position')\n",
    "plt.colorbar()\n",
    "plt.show()"
   ]
  }
 ],
 "metadata": {
  "kernelspec": {
   "display_name": "Python (COE197Z)",
   "language": "python",
   "name": "coe197z"
  },
  "language_info": {
   "codemirror_mode": {
    "name": "ipython",
    "version": 3
   },
   "file_extension": ".py",
   "mimetype": "text/x-python",
   "name": "python",
   "nbconvert_exporter": "python",
   "pygments_lexer": "ipython3",
   "version": "3.7.9"
  }
 },
 "nbformat": 4,
 "nbformat_minor": 4
}
